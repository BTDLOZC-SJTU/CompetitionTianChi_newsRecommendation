{
 "cells": [
  {
   "cell_type": "code",
   "execution_count": 46,
   "metadata": {},
   "outputs": [],
   "source": [
    "import time\n",
    "from tqdm import tqdm\n",
    "import collections\n",
    "import math\n",
    "import pickle\n",
    "from datetime import datetime\n",
    "import numpy as np\n",
    "import pandas as pd"
   ]
  },
  {
   "cell_type": "code",
   "execution_count": 47,
   "metadata": {},
   "outputs": [],
   "source": [
    "from loaddata_z import loadData"
   ]
  },
  {
   "cell_type": "markdown",
   "metadata": {},
   "source": [
    "### 加载数据模块\n",
    "确定数据类型减少内存占用"
   ]
  },
  {
   "cell_type": "code",
   "execution_count": 48,
   "metadata": {},
   "outputs": [],
   "source": [
    "data_path = \"../data/\"\n",
    "_loadData = loadData(data_path)"
   ]
  },
  {
   "cell_type": "code",
   "execution_count": 49,
   "metadata": {},
   "outputs": [],
   "source": [
    "sample_df = _loadData.get_sample_data()"
   ]
  },
  {
   "cell_type": "code",
   "execution_count": 50,
   "metadata": {},
   "outputs": [
    {
     "data": {
      "text/html": [
       "<div>\n",
       "<style scoped>\n",
       "    .dataframe tbody tr th:only-of-type {\n",
       "        vertical-align: middle;\n",
       "    }\n",
       "\n",
       "    .dataframe tbody tr th {\n",
       "        vertical-align: top;\n",
       "    }\n",
       "\n",
       "    .dataframe thead th {\n",
       "        text-align: right;\n",
       "    }\n",
       "</style>\n",
       "<table border=\"1\" class=\"dataframe\">\n",
       "  <thead>\n",
       "    <tr style=\"text-align: right;\">\n",
       "      <th></th>\n",
       "      <th>user_id</th>\n",
       "      <th>click_article_id</th>\n",
       "      <th>click_timestamp</th>\n",
       "      <th>click_environment</th>\n",
       "      <th>click_deviceGroup</th>\n",
       "      <th>click_os</th>\n",
       "      <th>click_country</th>\n",
       "      <th>click_region</th>\n",
       "      <th>click_referrer_type</th>\n",
       "    </tr>\n",
       "  </thead>\n",
       "  <tbody>\n",
       "    <tr>\n",
       "      <th>32</th>\n",
       "      <td>199990</td>\n",
       "      <td>272143</td>\n",
       "      <td>1507029564434</td>\n",
       "      <td>4</td>\n",
       "      <td>1</td>\n",
       "      <td>17</td>\n",
       "      <td>1</td>\n",
       "      <td>7</td>\n",
       "      <td>5</td>\n",
       "    </tr>\n",
       "    <tr>\n",
       "      <th>33</th>\n",
       "      <td>199990</td>\n",
       "      <td>198659</td>\n",
       "      <td>1507029670707</td>\n",
       "      <td>4</td>\n",
       "      <td>1</td>\n",
       "      <td>17</td>\n",
       "      <td>1</td>\n",
       "      <td>7</td>\n",
       "      <td>1</td>\n",
       "    </tr>\n",
       "    <tr>\n",
       "      <th>34</th>\n",
       "      <td>199990</td>\n",
       "      <td>84629</td>\n",
       "      <td>1507029700707</td>\n",
       "      <td>4</td>\n",
       "      <td>1</td>\n",
       "      <td>17</td>\n",
       "      <td>1</td>\n",
       "      <td>7</td>\n",
       "      <td>1</td>\n",
       "    </tr>\n",
       "    <tr>\n",
       "      <th>52</th>\n",
       "      <td>199984</td>\n",
       "      <td>70594</td>\n",
       "      <td>1507029553199</td>\n",
       "      <td>4</td>\n",
       "      <td>3</td>\n",
       "      <td>2</td>\n",
       "      <td>1</td>\n",
       "      <td>5</td>\n",
       "      <td>7</td>\n",
       "    </tr>\n",
       "    <tr>\n",
       "      <th>53</th>\n",
       "      <td>199984</td>\n",
       "      <td>272143</td>\n",
       "      <td>1507029583199</td>\n",
       "      <td>4</td>\n",
       "      <td>3</td>\n",
       "      <td>2</td>\n",
       "      <td>1</td>\n",
       "      <td>5</td>\n",
       "      <td>7</td>\n",
       "    </tr>\n",
       "    <tr>\n",
       "      <th>...</th>\n",
       "      <td>...</td>\n",
       "      <td>...</td>\n",
       "      <td>...</td>\n",
       "      <td>...</td>\n",
       "      <td>...</td>\n",
       "      <td>...</td>\n",
       "      <td>...</td>\n",
       "      <td>...</td>\n",
       "      <td>...</td>\n",
       "    </tr>\n",
       "    <tr>\n",
       "      <th>1112454</th>\n",
       "      <td>187635</td>\n",
       "      <td>177653</td>\n",
       "      <td>1508210907604</td>\n",
       "      <td>4</td>\n",
       "      <td>3</td>\n",
       "      <td>2</td>\n",
       "      <td>1</td>\n",
       "      <td>25</td>\n",
       "      <td>1</td>\n",
       "    </tr>\n",
       "    <tr>\n",
       "      <th>1112547</th>\n",
       "      <td>69654</td>\n",
       "      <td>70986</td>\n",
       "      <td>1508211726802</td>\n",
       "      <td>4</td>\n",
       "      <td>3</td>\n",
       "      <td>2</td>\n",
       "      <td>1</td>\n",
       "      <td>25</td>\n",
       "      <td>1</td>\n",
       "    </tr>\n",
       "    <tr>\n",
       "      <th>1112548</th>\n",
       "      <td>69654</td>\n",
       "      <td>50644</td>\n",
       "      <td>1508211756802</td>\n",
       "      <td>4</td>\n",
       "      <td>3</td>\n",
       "      <td>2</td>\n",
       "      <td>1</td>\n",
       "      <td>25</td>\n",
       "      <td>1</td>\n",
       "    </tr>\n",
       "    <tr>\n",
       "      <th>1112573</th>\n",
       "      <td>5</td>\n",
       "      <td>211442</td>\n",
       "      <td>1508211243884</td>\n",
       "      <td>4</td>\n",
       "      <td>4</td>\n",
       "      <td>2</td>\n",
       "      <td>1</td>\n",
       "      <td>25</td>\n",
       "      <td>2</td>\n",
       "    </tr>\n",
       "    <tr>\n",
       "      <th>1112574</th>\n",
       "      <td>5</td>\n",
       "      <td>234481</td>\n",
       "      <td>1508211273884</td>\n",
       "      <td>4</td>\n",
       "      <td>4</td>\n",
       "      <td>2</td>\n",
       "      <td>1</td>\n",
       "      <td>25</td>\n",
       "      <td>2</td>\n",
       "    </tr>\n",
       "  </tbody>\n",
       "</table>\n",
       "<p>55488 rows × 9 columns</p>\n",
       "</div>"
      ],
      "text/plain": [
       "         user_id  click_article_id  click_timestamp  click_environment  \\\n",
       "32        199990            272143    1507029564434                  4   \n",
       "33        199990            198659    1507029670707                  4   \n",
       "34        199990             84629    1507029700707                  4   \n",
       "52        199984             70594    1507029553199                  4   \n",
       "53        199984            272143    1507029583199                  4   \n",
       "...          ...               ...              ...                ...   \n",
       "1112454   187635            177653    1508210907604                  4   \n",
       "1112547    69654             70986    1508211726802                  4   \n",
       "1112548    69654             50644    1508211756802                  4   \n",
       "1112573        5            211442    1508211243884                  4   \n",
       "1112574        5            234481    1508211273884                  4   \n",
       "\n",
       "         click_deviceGroup  click_os  click_country  click_region  \\\n",
       "32                       1        17              1             7   \n",
       "33                       1        17              1             7   \n",
       "34                       1        17              1             7   \n",
       "52                       3         2              1             5   \n",
       "53                       3         2              1             5   \n",
       "...                    ...       ...            ...           ...   \n",
       "1112454                  3         2              1            25   \n",
       "1112547                  3         2              1            25   \n",
       "1112548                  3         2              1            25   \n",
       "1112573                  4         2              1            25   \n",
       "1112574                  4         2              1            25   \n",
       "\n",
       "         click_referrer_type  \n",
       "32                         5  \n",
       "33                         1  \n",
       "34                         1  \n",
       "52                         7  \n",
       "53                         7  \n",
       "...                      ...  \n",
       "1112454                    1  \n",
       "1112547                    1  \n",
       "1112548                    1  \n",
       "1112573                    2  \n",
       "1112574                    2  \n",
       "\n",
       "[55488 rows x 9 columns]"
      ]
     },
     "execution_count": 50,
     "metadata": {},
     "output_type": "execute_result"
    }
   ],
   "source": [
    "sample_df"
   ]
  },
  {
   "cell_type": "code",
   "execution_count": 51,
   "metadata": {},
   "outputs": [],
   "source": [
    "item_info_df = _loadData.get_item_info()"
   ]
  },
  {
   "cell_type": "code",
   "execution_count": 52,
   "metadata": {},
   "outputs": [],
   "source": [
    "# item_emb_df = _loadData.get_item_emb()"
   ]
  },
  {
   "cell_type": "code",
   "execution_count": 53,
   "metadata": {},
   "outputs": [],
   "source": [
    "import time\n",
    "for t in sample_df[sample_df[\"user_id\"] == 1000][\"click_timestamp\"]:\n",
    "    print(time.gmtime(t // 1000))"
   ]
  },
  {
   "cell_type": "markdown",
   "metadata": {},
   "source": [
    "### ItemCF"
   ]
  },
  {
   "cell_type": "code",
   "execution_count": 56,
   "metadata": {},
   "outputs": [],
   "source": [
    "# 根据点击时间获取用户的点击文章序列   {user1: [(item1, time1), (item2, time2)..]...}\n",
    "def get_user_item_time(click_df):\n",
    "    \n",
    "    click_df = click_df.sort_values('click_timestamp')\n",
    "    \n",
    "    def make_item_time_pair(df):\n",
    "        return list(zip(df['click_article_id'], df['click_timestamp']))\n",
    "    \n",
    "    user_item_time_df = click_df.groupby('user_id')['click_article_id', 'click_timestamp'].apply(lambda x: make_item_time_pair(x))\\\n",
    "                                                            .reset_index().rename(columns={0: 'item_time_list'})\n",
    "    user_item_time_dict = dict(zip(user_item_time_df['user_id'], user_item_time_df['item_time_list']))\n",
    "    \n",
    "    return user_item_time_dict"
   ]
  },
  {
   "cell_type": "code",
   "execution_count": 57,
   "metadata": {},
   "outputs": [],
   "source": [
    "# 获取文章id对应的基本属性，保存成字典的形式，方便后面召回阶段，冷启动阶段直接使用\n",
    "def get_item_info_dict(item_info_df):\n",
    "    max_min_scaler = lambda x : (x-np.min(x))/(np.max(x)-np.min(x))\n",
    "    item_info_df['created_at_ts'] = item_info_df[['created_at_ts']].apply(max_min_scaler)\n",
    "    \n",
    "    item_type_dict = dict(zip(item_info_df['click_article_id'], item_info_df['category_id']))\n",
    "    item_words_dict = dict(zip(item_info_df['click_article_id'], item_info_df['words_count']))\n",
    "    item_created_time_dict = dict(zip(item_info_df['click_article_id'], item_info_df['created_at_ts']))\n",
    "    \n",
    "    return item_type_dict, item_words_dict, item_created_time_dict"
   ]
  },
  {
   "cell_type": "markdown",
   "metadata": {},
   "source": [
    "### UserCF"
   ]
  },
  {
   "cell_type": "code",
   "execution_count": 60,
   "metadata": {},
   "outputs": [],
   "source": [
    "# 根据时间获取商品被点击的用户序列  {item1: [(user1, time1), (user2, time2)...]...}\n",
    "def get_item_user_time_dict(click_df):\n",
    "    def make_user_time_pair(df):\n",
    "        return list(zip(df['user_id'], df['click_timestamp']))\n",
    "    \n",
    "    click_df = click_df.sort_values('click_timestamp')\n",
    "    item_user_time_df = click_df.groupby('click_article_id')['user_id', 'click_timestamp'].apply(lambda x: make_user_time_pair(x))\\\n",
    "                                                            .reset_index().rename(columns={0: 'user_time_list'})\n",
    "    \n",
    "    item_user_time_dict = dict(zip(item_user_time_df['click_article_id'], item_user_time_df['user_time_list']))\n",
    "    return item_user_time_dict"
   ]
  },
  {
   "cell_type": "code",
   "execution_count": 61,
   "metadata": {},
   "outputs": [],
   "source": [
    "from sklearn.preprocessing import MinMaxScaler"
   ]
  },
  {
   "cell_type": "code",
   "execution_count": 62,
   "metadata": {},
   "outputs": [],
   "source": [
    "def get_user_activate_degree_dict(click_df):\n",
    "    click_cnt_df = click_df.groupby('user_id')['click_article_id'].count().reset_index()\n",
    "    \n",
    "    # 用户活跃度归一化[0, 1]\n",
    "    mm = MinMaxScaler()\n",
    "    click_cnt_df['click_article_id'] = mm.fit_transform(click_cnt_df[['click_article_id']])\n",
    "    user_activate_degree_dict = dict(zip(click_cnt_df['user_id'], click_cnt_df['click_article_id']))\n",
    "    \n",
    "    return user_activate_degree_dict"
   ]
  },
  {
   "cell_type": "code",
   "execution_count": 63,
   "metadata": {},
   "outputs": [],
   "source": [
    "def get_item_popular_degree_dict(click_df):\n",
    "    item_cnt_df = click_df.groupby('click_article_id')['user_id'].count().reset_index()\n",
    "    # 物品流行度归一化[0, 1]\n",
    "    mm = MinMaxScaler()\n",
    "    item_cnt_df['user_id'] = mm.fit_transform(item_cnt_df[['user_id']])\n",
    "    item_popular_degree_dict = dict(zip(item_cnt_df['click_article_id'], item_cnt_df['user_id']))\n",
    "    \n",
    "    return item_popular_degree_dict"
   ]
  },
  {
   "cell_type": "code",
   "execution_count": 74,
   "metadata": {},
   "outputs": [],
   "source": [
    "def usercf_sim(sample_df, user_activate_degree_dict):\n",
    "    \"\"\"\n",
    "    用户相似性矩阵计算\n",
    "    :param all_click_df: 数据表\n",
    "    :param user_activate_degree_dict: 用户活跃度的字典\n",
    "    return 用户相似性矩阵\n",
    "        \n",
    "    思路: 基于用户的协同过滤 + 关联规则\n",
    "    \"\"\"\n",
    "    item_user_time_dict = get_item_user_time_dict(sample_df)\n",
    "    u2u_sim = {}\n",
    "    user_cnt = collections.defaultdict(int)\n",
    "    \n",
    "    for item, user_time_list in tqdm(item_user_time_dict.items()):\n",
    "        for u, _ in user_time_list:\n",
    "            user_cnt[u] += 1\n",
    "            u2u_sim.setdefault(u, {})\n",
    "            for v, _ in user_time_list:\n",
    "                \n",
    "                if u == v:\n",
    "                    continue\n",
    "                # 用户平均活跃度作为活跃度的权重，这里的式子也可以改善\n",
    "                activate_weight = 100 * 0.5 * (user_activate_degree_dict[u] + user_activate_degree_dict[v])\n",
    "                #item_weight = np.exp(0.9 ** item_popular_degree_dict[item])\n",
    "                # 惩罚热门物品的权重\n",
    "                u2u_sim[u].setdefault(v, 0)\n",
    "                u2u_sim[u][v] += activate_weight / math.log(len(user_time_list) + 1)\n",
    "                \n",
    "    u2u_sim_ = u2u_sim.copy()\n",
    "    for u, related_users in u2u_sim.items():\n",
    "        for v, wij in related_users.items():\n",
    "            u2u_sim_[u][v] = wij / math.sqrt(user_cnt[u] * user_cnt[v])\n",
    "            \n",
    "    # 将得到的相似性矩阵保存到本地\n",
    "    pickle.dump(u2u_sim_, open('usercf_u2u_sim.pkl', 'wb'))\n",
    "\n",
    "    return u2u_sim_"
   ]
  },
  {
   "cell_type": "code",
   "execution_count": 79,
   "metadata": {},
   "outputs": [],
   "source": [
    "def user_based_recommend(user_id, user_item_time_dict, u2u_sim, sim_user_topk, recall_item_num, item_topk_click, item_created_time_dict):\n",
    "    \"\"\"\n",
    "    基于文章协同过滤的召回\n",
    "    :param user_id: 用户id\n",
    "    :param user_item_time_dict: 字典, 根据点击时间获取用户的点击文章序列   {user1: [(item1, time1), (item2, time2)..]...}\n",
    "    :param u2u_sim: 字典，文章相似性矩阵\n",
    "    :param sim_user_topk: 整数， 选择与当前用户最相似的前k个用户\n",
    "    :param recall_item_num: 整数， 最后的召回文章数量\n",
    "    :param item_topk_click: 列表，点击次数最多的文章列表，用户召回补全\n",
    "    :param item_created_time_dict: 文章创建时间列表\n",
    "    :param emb_i2i_sim: 字典基于内容embedding算的文章相似矩阵\n",
    "\n",
    "    return: 召回的文章列表 [(item1, score1), (item2, score2)...]\n",
    "    \"\"\"\n",
    "    # 历史交互\n",
    "    user_item_time_list = user_item_time_dict[user_id] #  [(item1, time1), (item2, time2)..]\n",
    "    user_hist_items = set([i for i, t in user_item_time_list]) # 存在一个用户与某篇文章的多次交互，这里得去重\n",
    "    items_rank = {}\n",
    "    for sim_u, wuv in sorted(u2u_sim[user_id].items(), key=lambda x: x[1], reverse=True)[: sim_user_topk]:\n",
    "        for i, click_time in user_item_time_dict[sim_u]:\n",
    "            if i in user_hist_items:\n",
    "                continue\n",
    "            items_rank.setdefault(i, 0)\n",
    "        \n",
    "            \n",
    "            for loc, (j, click_time) in enumerate(user_item_time_list):\n",
    "                # 点击时的相对位置权重\n",
    "                loc_weight = 0.95 ** (len(user_item_time_list) - loc)\n",
    "                # 创建时间差权重\n",
    "                created_time_weight = np.exp(0.9 * np.abs(item_created_time_dict[i] - item_created_time_dict[j]))\n",
    "                \n",
    "            items_rank[i] += loc_weight * content_weight * created_time_weight * wuv\n",
    "    \n",
    "    # 热度补全\n",
    "    if len(items_rank) < recall_item_num:\n",
    "        for i, item in enumerate(item_topk_click):\n",
    "            if item in items_rank:\n",
    "                continue\n",
    "            items_rank[item] = - 100 # 随便给个复数就行\n",
    "            if len(items_rank) == recall_item_num:\n",
    "                break\n",
    "    \n",
    "    items_rank = sorted(items_rank.items(), key=lambda x: x[1], reverse=True)[: recall_item_num]\n",
    "    \n",
    "    return items_rank"
   ]
  },
  {
   "cell_type": "code",
   "execution_count": 66,
   "metadata": {},
   "outputs": [
    {
     "name": "stderr",
     "output_type": "stream",
     "text": [
      "C:\\Users\\59572\\anaconda3\\lib\\site-packages\\ipykernel_launcher.py:9: FutureWarning: Indexing with multiple keys (implicitly converted to a tuple of keys) will be deprecated, use a list instead.\n",
      "  if __name__ == '__main__':\n"
     ]
    }
   ],
   "source": [
    "user_item_time_dict = get_user_item_time(sample_df)"
   ]
  },
  {
   "cell_type": "code",
   "execution_count": 67,
   "metadata": {},
   "outputs": [],
   "source": [
    "user_activate_degree_dict = get_user_activate_degree_dict(sample_df)"
   ]
  },
  {
   "cell_type": "code",
   "execution_count": 68,
   "metadata": {},
   "outputs": [],
   "source": [
    "item_type_dict, item_words_dict, item_created_time_dict = get_item_info_dict(item_info_df)"
   ]
  },
  {
   "cell_type": "code",
   "execution_count": 75,
   "metadata": {},
   "outputs": [
    {
     "name": "stderr",
     "output_type": "stream",
     "text": [
      "C:\\Users\\59572\\anaconda3\\lib\\site-packages\\ipykernel_launcher.py:9: FutureWarning: Indexing with multiple keys (implicitly converted to a tuple of keys) will be deprecated, use a list instead.\n",
      "  if __name__ == '__main__':\n",
      "C:\\Users\\59572\\anaconda3\\lib\\site-packages\\ipykernel_launcher.py:7: FutureWarning: Indexing with multiple keys (implicitly converted to a tuple of keys) will be deprecated, use a list instead.\n",
      "  import sys\n",
      "100%|████████████████████████████████████████████████████████████████████████████| 6545/6545 [00:05<00:00, 1266.22it/s]\n"
     ]
    }
   ],
   "source": [
    "user_item_time_dict = get_user_item_time(sample_df)\n",
    "item_type_dict, item_words_dict, item_created_time_dict = get_item_info_dict(item_info_df)\n",
    "u2u_sim = usercf_sim(sample_df, user_activate_degree_dict)"
   ]
  },
  {
   "cell_type": "code",
   "execution_count": 76,
   "metadata": {},
   "outputs": [],
   "source": [
    "submit_df = pd.read_csv(\"../data/sample_submit.csv\")"
   ]
  },
  {
   "cell_type": "code",
   "execution_count": 80,
   "metadata": {},
   "outputs": [
    {
     "name": "stderr",
     "output_type": "stream",
     "text": [
      "  0%|                                                                                        | 0/50000 [00:00<?, ?it/s]\n"
     ]
    },
    {
     "ename": "KeyError",
     "evalue": "200000",
     "output_type": "error",
     "traceback": [
      "\u001b[1;31m---------------------------------------------------------------------------\u001b[0m",
      "\u001b[1;31mKeyError\u001b[0m                                  Traceback (most recent call last)",
      "\u001b[1;32m<ipython-input-80-6f880a894b4c>\u001b[0m in \u001b[0;36m<module>\u001b[1;34m\u001b[0m\n\u001b[0;32m      5\u001b[0m \u001b[0muser_recall_items_dict\u001b[0m \u001b[1;33m=\u001b[0m \u001b[0mcollections\u001b[0m\u001b[1;33m.\u001b[0m\u001b[0mdefaultdict\u001b[0m\u001b[1;33m(\u001b[0m\u001b[0mdict\u001b[0m\u001b[1;33m)\u001b[0m\u001b[1;33m\u001b[0m\u001b[1;33m\u001b[0m\u001b[0m\n\u001b[0;32m      6\u001b[0m \u001b[1;32mfor\u001b[0m \u001b[0muser\u001b[0m \u001b[1;32min\u001b[0m \u001b[0mtqdm\u001b[0m\u001b[1;33m(\u001b[0m\u001b[0msubmit_df\u001b[0m\u001b[1;33m[\u001b[0m\u001b[1;34m'user_id'\u001b[0m\u001b[1;33m]\u001b[0m\u001b[1;33m.\u001b[0m\u001b[0munique\u001b[0m\u001b[1;33m(\u001b[0m\u001b[1;33m)\u001b[0m\u001b[1;33m)\u001b[0m\u001b[1;33m:\u001b[0m\u001b[1;33m\u001b[0m\u001b[1;33m\u001b[0m\u001b[0m\n\u001b[1;32m----> 7\u001b[1;33m     \u001b[0muser_recall_items_dict\u001b[0m\u001b[1;33m[\u001b[0m\u001b[0muser\u001b[0m\u001b[1;33m]\u001b[0m \u001b[1;33m=\u001b[0m \u001b[0muser_based_recommend\u001b[0m\u001b[1;33m(\u001b[0m\u001b[0muser\u001b[0m\u001b[1;33m,\u001b[0m \u001b[0muser_item_time_dict\u001b[0m\u001b[1;33m,\u001b[0m \u001b[0mu2u_sim\u001b[0m\u001b[1;33m,\u001b[0m \u001b[0msim_user_topk\u001b[0m\u001b[1;33m,\u001b[0m \u001b[0mrecall_item_num\u001b[0m\u001b[1;33m,\u001b[0m \u001b[0mitem_topk_click\u001b[0m\u001b[1;33m,\u001b[0m \u001b[0mitem_created_time_dict\u001b[0m\u001b[1;33m)\u001b[0m\u001b[1;33m\u001b[0m\u001b[1;33m\u001b[0m\u001b[0m\n\u001b[0m",
      "\u001b[1;32m<ipython-input-79-0eeb4defa53a>\u001b[0m in \u001b[0;36muser_based_recommend\u001b[1;34m(user_id, user_item_time_dict, u2u_sim, sim_user_topk, recall_item_num, item_topk_click, item_created_time_dict)\u001b[0m\n\u001b[0;32m     14\u001b[0m     \"\"\"\n\u001b[0;32m     15\u001b[0m     \u001b[1;31m# 历史交互\u001b[0m\u001b[1;33m\u001b[0m\u001b[1;33m\u001b[0m\u001b[1;33m\u001b[0m\u001b[0m\n\u001b[1;32m---> 16\u001b[1;33m     \u001b[0muser_item_time_list\u001b[0m \u001b[1;33m=\u001b[0m \u001b[0muser_item_time_dict\u001b[0m\u001b[1;33m[\u001b[0m\u001b[0muser_id\u001b[0m\u001b[1;33m]\u001b[0m \u001b[1;31m#  [(item1, time1), (item2, time2)..]\u001b[0m\u001b[1;33m\u001b[0m\u001b[1;33m\u001b[0m\u001b[0m\n\u001b[0m\u001b[0;32m     17\u001b[0m     \u001b[0muser_hist_items\u001b[0m \u001b[1;33m=\u001b[0m \u001b[0mset\u001b[0m\u001b[1;33m(\u001b[0m\u001b[1;33m[\u001b[0m\u001b[0mi\u001b[0m \u001b[1;32mfor\u001b[0m \u001b[0mi\u001b[0m\u001b[1;33m,\u001b[0m \u001b[0mt\u001b[0m \u001b[1;32min\u001b[0m \u001b[0muser_item_time_list\u001b[0m\u001b[1;33m]\u001b[0m\u001b[1;33m)\u001b[0m \u001b[1;31m# 存在一个用户与某篇文章的多次交互，这里得去重\u001b[0m\u001b[1;33m\u001b[0m\u001b[1;33m\u001b[0m\u001b[0m\n\u001b[0;32m     18\u001b[0m     \u001b[0mitems_rank\u001b[0m \u001b[1;33m=\u001b[0m \u001b[1;33m{\u001b[0m\u001b[1;33m}\u001b[0m\u001b[1;33m\u001b[0m\u001b[1;33m\u001b[0m\u001b[0m\n",
      "\u001b[1;31mKeyError\u001b[0m: 200000"
     ]
    }
   ],
   "source": [
    "sim_user_topk = 10\n",
    "recall_item_num = 10\n",
    "item_topk_click = get_item_topk_click(sample_df, k=50)\n",
    "\n",
    "user_recall_items_dict = collections.defaultdict(dict)\n",
    "for user in tqdm(submit_df['user_id'].unique()):\n",
    "    user_recall_items_dict[user] = user_based_recommend(user, user_item_time_dict, u2u_sim, sim_user_topk, recall_item_num, item_topk_click, item_created_time_dict)"
   ]
  }
 ],
 "metadata": {
  "kernelspec": {
   "display_name": "Python 3",
   "language": "python",
   "name": "python3"
  },
  "language_info": {
   "codemirror_mode": {
    "name": "ipython",
    "version": 3
   },
   "file_extension": ".py",
   "mimetype": "text/x-python",
   "name": "python",
   "nbconvert_exporter": "python",
   "pygments_lexer": "ipython3",
   "version": "3.7.4"
  },
  "varInspector": {
   "cols": {
    "lenName": 16,
    "lenType": 16,
    "lenVar": 40
   },
   "kernels_config": {
    "python": {
     "delete_cmd_postfix": "",
     "delete_cmd_prefix": "del ",
     "library": "var_list.py",
     "varRefreshCmd": "print(var_dic_list())"
    },
    "r": {
     "delete_cmd_postfix": ") ",
     "delete_cmd_prefix": "rm(",
     "library": "var_list.r",
     "varRefreshCmd": "cat(var_dic_list()) "
    }
   },
   "types_to_exclude": [
    "module",
    "function",
    "builtin_function_or_method",
    "instance",
    "_Feature"
   ],
   "window_display": false
  }
 },
 "nbformat": 4,
 "nbformat_minor": 4
}
