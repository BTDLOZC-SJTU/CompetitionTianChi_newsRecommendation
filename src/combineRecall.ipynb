{
 "cells": [
  {
   "cell_type": "code",
   "execution_count": 2,
   "metadata": {
    "id": "kYJEJebWkMV9"
   },
   "outputs": [],
   "source": [
    "import time\n",
    "from tqdm import tqdm\n",
    "import collections\n",
    "import math\n",
    "import pickle\n",
    "from datetime import datetime\n",
    "import numpy as np\n",
    "import pandas as pd"
   ]
  },
  {
   "cell_type": "code",
   "execution_count": 3,
   "metadata": {
    "id": "wW6o1FmokWHd"
   },
   "outputs": [],
   "source": [
    "itemcf_recall_dict = pickle.load(open(\"./recall/offline_itemcf_user_recall_items_dict.pkl\", \"rb\"))  # 50\n",
    "ytb_recall_dict = pickle.load(open(\"./recall/ytb_sort_recall_dict.pkl\", \"rb\"))  # 50\n",
    "#cold_start_recall_dict = pickle.load(open(\"./recall/cold_start_user_items_dict.pkl\", \"rb\"))  # ?\n",
    "popular_recall_dict = pickle.load(open(\"./recall/popular_sort_recall_dict.pkl\", \"rb\"))  # 50"
   ]
  },
  {
   "cell_type": "code",
   "execution_count": 95,
   "metadata": {
    "id": "eFxQrdMvCUqE"
   },
   "outputs": [
    {
     "name": "stderr",
     "output_type": "stream",
     "text": [
      "100%|██████████| 200000/200000 [00:08<00:00, 23087.26it/s]\n",
      "100%|██████████| 200000/200000 [00:07<00:00, 27393.57it/s]\n"
     ]
    }
   ],
   "source": [
    "final_recall_items_dict = {}\n",
    "\n",
    "for user_id, item_list in tqdm(itemcf_recall_dict.items()):\n",
    "    final_recall_items_dict.setdefault(user_id, {})\n",
    "    min_sim = item_list[-1][1]\n",
    "    max_sim = item_list[0][1]\n",
    "\n",
    "    for item, score in item_list:\n",
    "        final_recall_items_dict[user_id].setdefault(item, 0)\n",
    "        final_recall_items_dict[user_id][item] += 1.5 * (score - min_sim) / (max_sim - min_sim)\n",
    "\n",
    "\"\"\"\n",
    "for user_id, item_list in tqdm(ytb_recall_dict.items()):\n",
    "    final_recall_items_dict.setdefault(user_id, {})\n",
    "    min_sim = item_list[-1][1]\n",
    "    max_sim = item_list[0][1]\n",
    "\n",
    "    for item, score in item_list:\n",
    "        final_recall_items_dict[user_id].setdefault(item, 0)\n",
    "        final_recall_items_dict[user_id][item] += 0 * (score - min_sim) / (max_sim - min_sim)\n",
    "\"\"\"\n",
    "\n",
    "for user_id, item_list in tqdm(popular_recall_dict.items()):\n",
    "    final_recall_items_dict.setdefault(user_id, {})\n",
    "\n",
    "    for item, score in item_list:\n",
    "        final_recall_items_dict[user_id].setdefault(item, 0)\n",
    "        final_recall_items_dict[user_id][item] += 1.5 * score"
   ]
  },
  {
   "cell_type": "code",
   "execution_count": 31,
   "metadata": {},
   "outputs": [],
   "source": [
    "#pickle.dump(final_recall_items_dict, open('final_recall_items_dict.pkl','wb'))"
   ]
  },
  {
   "cell_type": "code",
   "execution_count": 4,
   "metadata": {},
   "outputs": [],
   "source": [
    "# 节省数据内存\n",
    "article_dtypes = {\n",
    "    \"article_id\": \"int32\",\n",
    "    \"category_id\": \"int16\",\n",
    "    \"created_at_ts\": \"int64\",\n",
    "    \"words_count\": \"int16\"}\n",
    "\n",
    "click_log_dtypes = {\n",
    "    \"user_id\": \"int32\",\n",
    "    \"click_article_id\": \"int32\",\n",
    "    \"click_timestamp\": \"int64\",\n",
    "    \"click_environment\": \"int8\",\n",
    "    \"click_deviceGroup\": \"int8\",\n",
    "    \"click_os\": \"int8\",\n",
    "    \"click_country\": \"int8\",\n",
    "    \"click_region\": \"int8\",\n",
    "    \"click_referrer_type\": \"int8\"}\n",
    "\n",
    "def get_val_ans_click_df(data_save_path, name='offline_val_ans_df.csv'):\n",
    "    val_ans_df = pd.read_csv(data_save_path + name, dtype=click_log_dtypes)\n",
    "    return val_ans_df\n",
    "\n",
    "data_save_path = \"../data/\"\n",
    "val_ans_df = get_val_ans_click_df(data_save_path)\n",
    "val_ans_dict = dict(zip(val_ans_df['user_id'], val_ans_df['click_article_id']))"
   ]
  },
  {
   "cell_type": "code",
   "execution_count": 75,
   "metadata": {},
   "outputs": [],
   "source": [
    "def offline_recall_metrics(user_recall_items_dict, val_ans_dict, k=150):\n",
    "    recall_cnt = 0\n",
    "    for user_id, val_ans in val_ans_dict.items():\n",
    "        if val_ans in set(list(zip(*sorted(sorted(list(user_recall_items_dict[user_id].items()), key=lambda x:x[1], reverse=True)[:k])))[0]):\n",
    "            recall_cnt += 1\n",
    "    hit = recall_cnt / len(val_ans_dict)\n",
    "    print(\"hit rate: \" + str(hit))\n",
    "    return hit"
   ]
  },
  {
   "cell_type": "code",
   "execution_count": 94,
   "metadata": {},
   "outputs": [
    {
     "name": "stdout",
     "output_type": "stream",
     "text": [
      "hit rate: 0.3439\n"
     ]
    },
    {
     "data": {
      "text/plain": [
       "0.3439"
      ]
     },
     "execution_count": 94,
     "metadata": {},
     "output_type": "execute_result"
    }
   ],
   "source": [
    "offline_recall_metrics(final_recall_items_dict,val_ans_dict,k=5)"
   ]
  },
  {
   "cell_type": "code",
   "execution_count": 6,
   "metadata": {},
   "outputs": [],
   "source": [
    "def offline_recall_metrics_other(user_recall_items_dict, val_ans_dict, k=150):\n",
    "    recall_cnt = 0\n",
    "    for user_id, val_ans in val_ans_dict.items():\n",
    "        if val_ans in set(list(zip(*user_recall_items_dict[user_id][:k]))[0]):\n",
    "            recall_cnt += 1\n",
    "    hit = recall_cnt / len(val_ans_dict)\n",
    "    print(\"hit rate: \" + str(hit))\n",
    "    return hit"
   ]
  },
  {
   "cell_type": "code",
   "execution_count": 81,
   "metadata": {},
   "outputs": [
    {
     "name": "stdout",
     "output_type": "stream",
     "text": [
      "hit rate: 0.34645\n"
     ]
    },
    {
     "data": {
      "text/plain": [
       "0.34645"
      ]
     },
     "execution_count": 81,
     "metadata": {},
     "output_type": "execute_result"
    }
   ],
   "source": [
    "offline_recall_metrics_other(itemcf_recall_dict, val_ans_dict, k=5)"
   ]
  },
  {
   "cell_type": "code",
   "execution_count": 9,
   "metadata": {},
   "outputs": [
    {
     "name": "stdout",
     "output_type": "stream",
     "text": [
      "hit rate: 0.40765\n"
     ]
    },
    {
     "data": {
      "text/plain": [
       "0.40765"
      ]
     },
     "execution_count": 9,
     "metadata": {},
     "output_type": "execute_result"
    }
   ],
   "source": [
    "offline_recall_metrics_other(ytb_recall_dict, val_ans_dict, k=50)"
   ]
  },
  {
   "cell_type": "code",
   "execution_count": 18,
   "metadata": {},
   "outputs": [
    {
     "name": "stdout",
     "output_type": "stream",
     "text": [
      "hit rate: 0.207975\n"
     ]
    },
    {
     "data": {
      "text/plain": [
       "0.207975"
      ]
     },
     "execution_count": 18,
     "metadata": {},
     "output_type": "execute_result"
    }
   ],
   "source": [
    "offline_recall_metrics_other(popular_recall_dict, val_ans_dict, k=5)"
   ]
  },
  {
   "cell_type": "code",
   "execution_count": 25,
   "metadata": {},
   "outputs": [
    {
     "name": "stderr",
     "output_type": "stream",
     "text": [
      "\n",
      "\n",
      "  0%|          | 0/200000 [00:00<?, ?it/s]\u001b[A\u001b[A\n",
      "\n",
      "100%|██████████| 200000/200000 [00:00<00:00, 1950512.47it/s]\u001b[A\u001b[A\n"
     ]
    }
   ],
   "source": [
    "# 将字典的形式转换成df\n",
    "user_item_score_list = []\n",
    "\n",
    "for user_id in tqdm(final_recall_items_dict.keys()):\n",
    "    if user_id < 200000:\n",
    "        continue\n",
    "    for item, score in final_recall_items_dict[user_id].items():\n",
    "        user_item_score_list.append([user_id, item, score])\n",
    "\n",
    "recall_df = pd.DataFrame(user_item_score_list, columns=['user_id', 'click_article_id', 'pred_score'])"
   ]
  },
  {
   "cell_type": "code",
   "execution_count": 44,
   "metadata": {},
   "outputs": [],
   "source": [
    "# 生成提交文件\n",
    "def submit(recall_df, topk=5, model_name=None):\n",
    "    recall_df = recall_df.sort_values(by=['user_id', 'pred_score'])\n",
    "    recall_df['rank'] = recall_df.groupby(['user_id'])['pred_score'].rank(ascending=False, method='first')\n",
    "    \n",
    "    # 判断是不是每个用户都有5篇文章及以上\n",
    "    tmp = recall_df.groupby('user_id').apply(lambda x: x['rank'].max())\n",
    "    assert tmp.min() >= topk\n",
    "    \n",
    "    del recall_df['pred_score']\n",
    "    submit = recall_df[recall_df['rank'] <= topk].set_index(['user_id', 'rank']).unstack(-1).reset_index()\n",
    "    \n",
    "    submit.columns = [int(col) if isinstance(col, int) else col for col in submit.columns.droplevel(0)]\n",
    "    # 按照提交格式定义列名\n",
    "    submit = submit.rename(columns={'': 'user_id', 1: 'article_1', 2: 'article_2', \n",
    "                                                  3: 'article_3', 4: 'article_4', 5: 'article_5'})\n",
    "    \n",
    "    save_name = './submit/' + datetime.today().strftime('%m-%d') + '.csv'\n",
    "    submit.to_csv(save_name, index=False, header=True)"
   ]
  },
  {
   "cell_type": "code",
   "execution_count": 45,
   "metadata": {},
   "outputs": [],
   "source": [
    "submit(recall_df, topk=5, model_name=None)"
   ]
  },
  {
   "cell_type": "code",
   "execution_count": 48,
   "metadata": {},
   "outputs": [
    {
     "data": {
      "text/html": [
       "<div>\n",
       "<style scoped>\n",
       "    .dataframe tbody tr th:only-of-type {\n",
       "        vertical-align: middle;\n",
       "    }\n",
       "\n",
       "    .dataframe tbody tr th {\n",
       "        vertical-align: top;\n",
       "    }\n",
       "\n",
       "    .dataframe thead th {\n",
       "        text-align: right;\n",
       "    }\n",
       "</style>\n",
       "<table border=\"1\" class=\"dataframe\">\n",
       "  <thead>\n",
       "    <tr style=\"text-align: right;\">\n",
       "      <th></th>\n",
       "      <th>user_id</th>\n",
       "      <th>click_article_id</th>\n",
       "      <th>pred_score</th>\n",
       "    </tr>\n",
       "  </thead>\n",
       "  <tbody>\n",
       "    <tr>\n",
       "      <td>7088105</td>\n",
       "      <td>200001</td>\n",
       "      <td>324823</td>\n",
       "      <td>3</td>\n",
       "    </tr>\n",
       "    <tr>\n",
       "      <td>7088106</td>\n",
       "      <td>200001</td>\n",
       "      <td>166581</td>\n",
       "      <td>3</td>\n",
       "    </tr>\n",
       "    <tr>\n",
       "      <td>7088107</td>\n",
       "      <td>200001</td>\n",
       "      <td>224658</td>\n",
       "      <td>3</td>\n",
       "    </tr>\n",
       "    <tr>\n",
       "      <td>7088108</td>\n",
       "      <td>200001</td>\n",
       "      <td>285808</td>\n",
       "      <td>2</td>\n",
       "    </tr>\n",
       "    <tr>\n",
       "      <td>7088109</td>\n",
       "      <td>200001</td>\n",
       "      <td>285343</td>\n",
       "      <td>3</td>\n",
       "    </tr>\n",
       "    <tr>\n",
       "      <td>...</td>\n",
       "      <td>...</td>\n",
       "      <td>...</td>\n",
       "      <td>...</td>\n",
       "    </tr>\n",
       "    <tr>\n",
       "      <td>7088223</td>\n",
       "      <td>200001</td>\n",
       "      <td>187067</td>\n",
       "      <td>1</td>\n",
       "    </tr>\n",
       "    <tr>\n",
       "      <td>7088224</td>\n",
       "      <td>200001</td>\n",
       "      <td>70033</td>\n",
       "      <td>1</td>\n",
       "    </tr>\n",
       "    <tr>\n",
       "      <td>7088225</td>\n",
       "      <td>200001</td>\n",
       "      <td>236613</td>\n",
       "      <td>1</td>\n",
       "    </tr>\n",
       "    <tr>\n",
       "      <td>7088226</td>\n",
       "      <td>200001</td>\n",
       "      <td>50864</td>\n",
       "      <td>1</td>\n",
       "    </tr>\n",
       "    <tr>\n",
       "      <td>7088227</td>\n",
       "      <td>200001</td>\n",
       "      <td>73500</td>\n",
       "      <td>1</td>\n",
       "    </tr>\n",
       "  </tbody>\n",
       "</table>\n",
       "<p>123 rows × 3 columns</p>\n",
       "</div>"
      ],
      "text/plain": [
       "         user_id  click_article_id  pred_score\n",
       "7088105   200001            324823           3\n",
       "7088106   200001            166581           3\n",
       "7088107   200001            224658           3\n",
       "7088108   200001            285808           2\n",
       "7088109   200001            285343           3\n",
       "...          ...               ...         ...\n",
       "7088223   200001            187067           1\n",
       "7088224   200001             70033           1\n",
       "7088225   200001            236613           1\n",
       "7088226   200001             50864           1\n",
       "7088227   200001             73500           1\n",
       "\n",
       "[123 rows x 3 columns]"
      ]
     },
     "execution_count": 48,
     "metadata": {},
     "output_type": "execute_result"
    }
   ],
   "source": [
    "recall_df[recall_df[\"user_id\"]==200001]"
   ]
  },
  {
   "cell_type": "code",
   "execution_count": null,
   "metadata": {},
   "outputs": [],
   "source": []
  }
 ],
 "metadata": {
  "colab": {
   "collapsed_sections": [],
   "name": "combineRecall.ipynb",
   "provenance": []
  },
  "kernelspec": {
   "display_name": "Python 3",
   "language": "python",
   "name": "python3"
  },
  "language_info": {
   "codemirror_mode": {
    "name": "ipython",
    "version": 3
   },
   "file_extension": ".py",
   "mimetype": "text/x-python",
   "name": "python",
   "nbconvert_exporter": "python",
   "pygments_lexer": "ipython3",
   "version": "3.7.4"
  },
  "toc": {
   "base_numbering": 1,
   "nav_menu": {},
   "number_sections": true,
   "sideBar": true,
   "skip_h1_title": false,
   "title_cell": "Table of Contents",
   "title_sidebar": "Contents",
   "toc_cell": false,
   "toc_position": {},
   "toc_section_display": true,
   "toc_window_display": false
  },
  "varInspector": {
   "cols": {
    "lenName": 16,
    "lenType": 16,
    "lenVar": 40
   },
   "kernels_config": {
    "python": {
     "delete_cmd_postfix": "",
     "delete_cmd_prefix": "del ",
     "library": "var_list.py",
     "varRefreshCmd": "print(var_dic_list())"
    },
    "r": {
     "delete_cmd_postfix": ") ",
     "delete_cmd_prefix": "rm(",
     "library": "var_list.r",
     "varRefreshCmd": "cat(var_dic_list()) "
    }
   },
   "types_to_exclude": [
    "module",
    "function",
    "builtin_function_or_method",
    "instance",
    "_Feature"
   ],
   "window_display": false
  }
 },
 "nbformat": 4,
 "nbformat_minor": 1
}
